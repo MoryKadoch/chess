{
 "cells": [
  {
   "cell_type": "code",
   "execution_count": 8,
   "metadata": {},
   "outputs": [],
   "source": [
    "import numpy as np\n",
    "import os\n",
    "import cv2\n",
    "from tensorflow.keras.models import Sequential\n",
    "from tensorflow.keras.layers import Conv2D, MaxPooling2D, Flatten, Dense\n",
    "from tensorflow.keras.preprocessing.image import img_to_array\n",
    "from sklearn.model_selection import train_test_split\n",
    "from sklearn.preprocessing import LabelEncoder\n",
    "from tensorflow.keras.utils import to_categorical\n",
    "import csv\n",
    "from tensorflow.keras.preprocessing.image import load_img\n",
    "import matplotlib.pyplot as plt\n",
    "import cv2\n",
    "import numpy as np"
   ]
  },
  {
   "cell_type": "code",
   "execution_count": 9,
   "metadata": {},
   "outputs": [],
   "source": [
    "folder = \"chess_positions\"\n",
    "annotations_file = os.path.join(folder, \"annotations.csv\")\n",
    "\n",
    "img_dim = 50\n",
    "\n",
    "piece_to_label = {\n",
    "    'r': 'black_rook', 'n': 'black_knight', 'b': 'black_bishop',\n",
    "    'q': 'black_queen', 'k': 'black_king', 'p': 'black_pawn',\n",
    "    'R': 'white_rook', 'N': 'white_knight', 'B': 'white_bishop',\n",
    "    'Q': 'white_queen', 'K': 'white_king', 'P': 'white_pawn',\n",
    "    '1': 'empty'\n",
    "}"
   ]
  },
  {
   "cell_type": "code",
   "execution_count": 10,
   "metadata": {},
   "outputs": [],
   "source": [
    "def split_board_to_squares(image_path):\n",
    "    img = cv2.imread(image_path)\n",
    "    squares = []\n",
    "    square_size = img.shape[0] // 8\n",
    "    for row in range(8):\n",
    "        for col in range(8):\n",
    "            square = img[row*square_size:(row+1)*square_size, col*square_size:(col+1)*square_size]\n",
    "            squares.append(cv2.resize(square, (img_dim, img_dim)))\n",
    "    return squares\n",
    "\n",
    "def load_data_and_labels(folder):\n",
    "    images = []\n",
    "    labels = []\n",
    "    with open(annotations_file, 'r', newline='') as file:\n",
    "        reader = csv.reader(file)\n",
    "        next(reader)\n",
    "        for row in reader:\n",
    "            img_path, fen = row\n",
    "            squares = split_board_to_squares(os.path.join(folder, img_path))\n",
    "            # conversion vers FEN en étiquettes\n",
    "            fen_rows = fen.split(' ')[0].split('/')\n",
    "            assert len(fen_rows) == 8\n",
    "            for fen_row in fen_rows:\n",
    "                for char in fen_row:\n",
    "                    if char.isdigit():\n",
    "                        for i in range(int(char)):\n",
    "                            labels.append('empty')\n",
    "                    else:\n",
    "                        labels.append(piece_to_label[char])\n",
    "            images.extend(squares)\n",
    "    return images, labels"
   ]
  },
  {
   "cell_type": "code",
   "execution_count": null,
   "metadata": {},
   "outputs": [],
   "source": [
    "images, labels = load_data_and_labels(folder)\n",
    "images = np.array([img_to_array(img) for img in images])\n",
    "le = LabelEncoder()\n",
    "labels = le.fit_transform(labels)\n",
    "labels = to_categorical(labels)\n",
    "\n",
    "x_train, x_test, y_train, y_test = train_test_split(images, labels, test_size=0.2, random_state=42)"
   ]
  },
  {
   "cell_type": "code",
   "execution_count": 12,
   "metadata": {},
   "outputs": [],
   "source": [
    "model = Sequential([\n",
    "    Conv2D(32, (3, 3), activation='relu', input_shape=(img_dim, img_dim, 3)),\n",
    "    MaxPooling2D(2, 2),\n",
    "    Conv2D(64, (3, 3), activation='relu'),\n",
    "    MaxPooling2D(2, 2),\n",
    "    Flatten(),\n",
    "    Dense(128, activation='relu'),\n",
    "    Dense(len(le.classes_), activation='softmax')\n",
    "])"
   ]
  },
  {
   "cell_type": "code",
   "execution_count": 13,
   "metadata": {},
   "outputs": [
    {
     "name": "stdout",
     "output_type": "stream",
     "text": [
      "Epoch 1/2\n",
      "1600/1600 [==============================] - 27s 16ms/step - loss: 0.2834 - accuracy: 0.9967 - val_loss: 0.0000e+00 - val_accuracy: 1.0000\n",
      "Epoch 2/2\n",
      "1600/1600 [==============================] - 28s 18ms/step - loss: 0.0000e+00 - accuracy: 1.0000 - val_loss: 0.0000e+00 - val_accuracy: 1.0000\n"
     ]
    },
    {
     "data": {
      "text/plain": [
       "<keras.src.callbacks.History at 0x7ef3797c71f0>"
      ]
     },
     "execution_count": 13,
     "metadata": {},
     "output_type": "execute_result"
    }
   ],
   "source": [
    "model.compile(optimizer='adam', loss='categorical_crossentropy', metrics=['accuracy'])\n",
    "\n",
    "model.fit(x_train, y_train, epochs=2, validation_data=(x_test, y_test))"
   ]
  },
  {
   "cell_type": "code",
   "execution_count": 14,
   "metadata": {},
   "outputs": [
    {
     "name": "stdout",
     "output_type": "stream",
     "text": [
      "400/400 [==============================] - 2s 6ms/step - loss: 0.0000e+00 - accuracy: 1.0000\n",
      "Test accuracy: 1.00\n"
     ]
    }
   ],
   "source": [
    "loss, accuracy = model.evaluate(x_test, y_test)\n",
    "print(f\"Test accuracy: {accuracy:.2f}\")"
   ]
  },
  {
   "cell_type": "code",
   "execution_count": 15,
   "metadata": {},
   "outputs": [
    {
     "name": "stderr",
     "output_type": "stream",
     "text": [
      "/home/mory/.local/lib/python3.10/site-packages/keras/src/engine/training.py:3103: UserWarning: You are saving your model as an HDF5 file via `model.save()`. This file format is considered legacy. We recommend using instead the native Keras format, e.g. `model.save('my_model.keras')`.\n",
      "  saving_api.save_model(\n"
     ]
    }
   ],
   "source": [
    "model.save('model.h5')"
   ]
  }
 ],
 "metadata": {
  "kernelspec": {
   "display_name": "Python 3",
   "language": "python",
   "name": "python3"
  },
  "language_info": {
   "codemirror_mode": {
    "name": "ipython",
    "version": 3
   },
   "file_extension": ".py",
   "mimetype": "text/x-python",
   "name": "python",
   "nbconvert_exporter": "python",
   "pygments_lexer": "ipython3",
   "version": "3.10.12"
  }
 },
 "nbformat": 4,
 "nbformat_minor": 2
}
